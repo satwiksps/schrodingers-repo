{
  "nbformat": 4,
  "nbformat_minor": 0,
  "metadata": {
    "colab": {
      "provenance": []
    },
    "kernelspec": {
      "name": "python3",
      "display_name": "Python 3"
    },
    "language_info": {
      "name": "python"
    }
  },
  "cells": [
    {
      "cell_type": "markdown",
      "source": [
        "**Install Required Libraries**"
      ],
      "metadata": {
        "id": "GJHfcdGWa7ac"
      }
    },
    {
      "cell_type": "code",
      "source": [
        "!pip install qiskit qiskit-aer qiskit-machine-learning qiskit-algorithms pylatexenc"
      ],
      "metadata": {
        "colab": {
          "base_uri": "https://localhost:8080/"
        },
        "id": "VEHJDmclPg7x",
        "outputId": "977ab696-81cc-436b-eae1-9fac37d7bc03",
        "collapsed": true
      },
      "execution_count": 4,
      "outputs": [
        {
          "output_type": "stream",
          "name": "stdout",
          "text": [
            "Requirement already satisfied: qiskit in /usr/local/lib/python3.11/dist-packages (2.0.2)\n",
            "Requirement already satisfied: qiskit-aer in /usr/local/lib/python3.11/dist-packages (0.17.1)\n",
            "Requirement already satisfied: qiskit-machine-learning in /usr/local/lib/python3.11/dist-packages (0.8.2)\n",
            "Requirement already satisfied: qiskit-algorithms in /usr/local/lib/python3.11/dist-packages (0.3.1)\n",
            "Requirement already satisfied: pylatexenc in /usr/local/lib/python3.11/dist-packages (2.10)\n",
            "Requirement already satisfied: rustworkx>=0.15.0 in /usr/local/lib/python3.11/dist-packages (from qiskit) (0.16.0)\n",
            "Requirement already satisfied: numpy<3,>=1.17 in /usr/local/lib/python3.11/dist-packages (from qiskit) (2.0.2)\n",
            "Requirement already satisfied: scipy>=1.5 in /usr/local/lib/python3.11/dist-packages (from qiskit) (1.15.3)\n",
            "Requirement already satisfied: sympy>=1.3 in /usr/local/lib/python3.11/dist-packages (from qiskit) (1.13.1)\n",
            "Requirement already satisfied: dill>=0.3 in /usr/local/lib/python3.11/dist-packages (from qiskit) (0.3.7)\n",
            "Requirement already satisfied: python-dateutil>=2.8.0 in /usr/local/lib/python3.11/dist-packages (from qiskit) (2.9.0.post0)\n",
            "Requirement already satisfied: stevedore>=3.0.0 in /usr/local/lib/python3.11/dist-packages (from qiskit) (5.4.1)\n",
            "Requirement already satisfied: typing-extensions in /usr/local/lib/python3.11/dist-packages (from qiskit) (4.13.2)\n",
            "Requirement already satisfied: symengine<0.14,>=0.11 in /usr/local/lib/python3.11/dist-packages (from qiskit) (0.13.0)\n",
            "Requirement already satisfied: psutil>=5 in /usr/local/lib/python3.11/dist-packages (from qiskit-aer) (5.9.5)\n",
            "Requirement already satisfied: scikit-learn>=1.2 in /usr/local/lib/python3.11/dist-packages (from qiskit-machine-learning) (1.6.1)\n",
            "Requirement already satisfied: setuptools>=40.1 in /usr/local/lib/python3.11/dist-packages (from qiskit-machine-learning) (75.2.0)\n",
            "Requirement already satisfied: six>=1.5 in /usr/local/lib/python3.11/dist-packages (from python-dateutil>=2.8.0->qiskit) (1.17.0)\n",
            "Requirement already satisfied: joblib>=1.2.0 in /usr/local/lib/python3.11/dist-packages (from scikit-learn>=1.2->qiskit-machine-learning) (1.5.1)\n",
            "Requirement already satisfied: threadpoolctl>=3.1.0 in /usr/local/lib/python3.11/dist-packages (from scikit-learn>=1.2->qiskit-machine-learning) (3.6.0)\n",
            "Requirement already satisfied: pbr>=2.0.0 in /usr/local/lib/python3.11/dist-packages (from stevedore>=3.0.0->qiskit) (6.1.1)\n",
            "Requirement already satisfied: mpmath<1.4,>=1.1.0 in /usr/local/lib/python3.11/dist-packages (from sympy>=1.3->qiskit) (1.3.0)\n"
          ]
        }
      ]
    },
    {
      "cell_type": "code",
      "source": [
        "import numpy as np\n",
        "import matplotlib.pyplot as plt\n",
        "from qiskit import QuantumCircuit, transpile\n",
        "from qiskit_aer import AerSimulator\n",
        "from qiskit.visualization import plot_histogram"
      ],
      "metadata": {
        "id": "DDn4M0C0EqeN"
      },
      "execution_count": 5,
      "outputs": []
    },
    {
      "cell_type": "markdown",
      "source": [
        "## Monte Carlo Estimation using a Quantum Circuit\n",
        "\n",
        "In this notebook, we simulate a **biased coin toss** using a quantum circuit.\n",
        "\n",
        "We use:\n",
        "- A single qubit initialized with a specific rotation (`Ry`) to encode a custom probability \\( p \\).\n",
        "- Measurement of the qubit to simulate a probabilistic event.\n",
        "- Multiple shots to estimate the expected value — similar to a Monte Carlo method.\n",
        "\n",
        "This is a simple and illustrative example of how quantum circuits can represent biased probabilistic processes."
      ],
      "metadata": {
        "id": "b8LDdYTxErrA"
      }
    },
    {
      "cell_type": "code",
      "source": [
        "# Define desired probability of measuring |1⟩ (heads)\n",
        "p = 0.75\n",
        "\n",
        "# Calculate θ such that sin²(θ/2) = p\n",
        "theta = 2 * np.arcsin(np.sqrt(p))"
      ],
      "metadata": {
        "id": "JcFOoyJuEy8b"
      },
      "execution_count": 6,
      "outputs": []
    },
    {
      "cell_type": "markdown",
      "source": [
        "## Encoding the Biased Probability with `Ry` Gate\n",
        "\n",
        "We encode the probability \\( p = 0.75 \\) using the `Ry` gate on a single qubit.\n",
        "\n",
        "This sets the amplitudes as:\n",
        "$$\n",
        "|\\psi\\rangle = \\cos(\\theta/2)|0\\rangle + \\sin(\\theta/2)|1\\rangle\n",
        "$$\n",
        "When we measure, the probability of getting `|1⟩` is $$ \\sin^2(\\theta/2) = p $$\n"
      ],
      "metadata": {
        "id": "I7R9TlWgE1yu"
      }
    },
    {
      "cell_type": "code",
      "source": [
        "# Create 1-qubit circuit with 1 classical bit for measurement\n",
        "qc = QuantumCircuit(1, 1)\n",
        "\n",
        "# Apply Ry rotation to encode bias\n",
        "qc.ry(theta, 0)\n",
        "\n",
        "# Measure the qubit\n",
        "qc.measure(0, 0)\n",
        "\n",
        "# Show the circuit\n",
        "qc.draw('mpl')\n",
        "plt.show()\n"
      ],
      "metadata": {
        "id": "thZKR_LaFB0Y"
      },
      "execution_count": 7,
      "outputs": []
    },
    {
      "cell_type": "markdown",
      "source": [
        "## Simulating and Estimating Probability\n",
        "\n",
        "We run the circuit using Qiskit's `AerSimulator` for 1000 shots (repetitions).\n",
        "We then calculate the empirical probability of observing the outcome `|1⟩`, which approximates the expectation value of the biased distribution.\n"
      ],
      "metadata": {
        "id": "JOYJb_GJFGxq"
      }
    },
    {
      "cell_type": "code",
      "source": [
        "# Simulate on Aer backend\n",
        "sim = AerSimulator()\n",
        "compiled = transpile(qc, sim)\n",
        "result = sim.run(compiled, shots=1000).result()\n",
        "\n",
        "# Get measurement results\n",
        "counts = result.get_counts()\n",
        "\n",
        "# Estimate probability of measuring |1⟩\n",
        "expectation = counts.get('1', 0) / 1000\n",
        "print(f\"Estimated probability of |1⟩ (heads): {expectation:.3f}\")"
      ],
      "metadata": {
        "colab": {
          "base_uri": "https://localhost:8080/"
        },
        "id": "aJxY6pzZFD0d",
        "outputId": "49ace80f-5e9d-47de-d534-8b0dffd35b4f"
      },
      "execution_count": 8,
      "outputs": [
        {
          "output_type": "stream",
          "name": "stdout",
          "text": [
            "Estimated probability of |1⟩ (heads): 0.741\n"
          ]
        }
      ]
    }
  ]
}